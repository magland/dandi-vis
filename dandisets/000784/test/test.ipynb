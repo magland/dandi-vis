{
 "cells": [
  {
   "cell_type": "code",
   "execution_count": 1,
   "metadata": {},
   "outputs": [],
   "source": [
    "import dendro.client as den\n",
    "import remfile\n",
    "import h5py"
   ]
  },
  {
   "cell_type": "code",
   "execution_count": 21,
   "metadata": {},
   "outputs": [
    {
     "data": {
      "text/plain": [
       "<HDF5 group \"/processing/ecephys/units\" (9 members)>"
      ]
     },
     "execution_count": 21,
     "metadata": {},
     "output_type": "execute_result"
    }
   ],
   "source": [
    "dandiset_id = \"000784\"\n",
    "project_id = \"c031e7bd\"\n",
    "project = den.load_project(project_id)\n",
    "f = project.get_file(f'imported/{dandiset_id}/sub-F/sub-F_obj-4vkwbz_ecephys.nwb')\n",
    "url = f.get_url()\n",
    "remf = remfile.File(url)\n",
    "h5file = h5py.File(remf, 'r')\n",
    "h5file['/processing/ecephys/units']"
   ]
  },
  {
   "cell_type": "code",
   "execution_count": null,
   "metadata": {},
   "outputs": [],
   "source": []
  }
 ],
 "metadata": {
  "kernelspec": {
   "display_name": "Python 3",
   "language": "python",
   "name": "python3"
  },
  "language_info": {
   "codemirror_mode": {
    "name": "ipython",
    "version": 3
   },
   "file_extension": ".py",
   "mimetype": "text/x-python",
   "name": "python",
   "nbconvert_exporter": "python",
   "pygments_lexer": "ipython3",
   "version": "3.10.13"
  }
 },
 "nbformat": 4,
 "nbformat_minor": 2
}
